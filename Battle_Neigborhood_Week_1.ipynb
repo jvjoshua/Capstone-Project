{
 "cells": [
  {
   "cell_type": "markdown",
   "metadata": {},
   "source": [
    "Introduction"
   ]
  },
  {
   "cell_type": "markdown",
   "metadata": {},
   "source": [
    "Lagos is a state in the southwestern geopolitical zone of Nigeria. The smallest in area of Nigeria’s 36 states. It is the economically important state of the country. It is the major financial centre.\n",
    "It has the highest population density of Nigeria’s state. The populations were estimated twenty-two million. Lagos state comprises of the following cities and towns; Lagos, Ikeja, Lekki, Ikorodu, Badagry, Epe and Ojo.\n",
    "Victoria Island, the financial center of the metropolis, is known for its beach resorts, boutiques and nightlife. To the north, Lagos Island is home to the National Museum Lagos, displaying cultural artifacts and craftworks. Nearby is Freedom Park, once a colonial-era prison and now a major venue for concerts and public events\n"
   ]
  },
  {
   "cell_type": "markdown",
   "metadata": {},
   "source": [
    "Problem Definition"
   ]
  },
  {
   "cell_type": "markdown",
   "metadata": {},
   "source": [
    "Many people come to Lagos for business and investment purposes and would like a short time accommodation to stay. Finding one is sometime challenging because of the nature of the city\n",
    "The goal of the project is to help businessmen and investors find ideal hotels for their stay.\n"
   ]
  },
  {
   "cell_type": "markdown",
   "metadata": {},
   "source": [
    "Data Methodology"
   ]
  },
  {
   "cell_type": "markdown",
   "metadata": {},
   "source": [
    "For this project I will be using Foursquare API by defining the geolocation of the centre of Lagos and the function that provide dataframe and after carryout a bit of data cleaning and wrangling which will produces data that I will apply unsupervised learning algorithms – k-Means"
   ]
  }
 ],
 "metadata": {
  "kernelspec": {
   "display_name": "Python",
   "language": "python",
   "name": "conda-env-python-py"
  },
  "language_info": {
   "codemirror_mode": {
    "name": "ipython",
    "version": 3
   },
   "file_extension": ".py",
   "mimetype": "text/x-python",
   "name": "python",
   "nbconvert_exporter": "python",
   "pygments_lexer": "ipython3",
   "version": "3.6.10"
  }
 },
 "nbformat": 4,
 "nbformat_minor": 4
}
